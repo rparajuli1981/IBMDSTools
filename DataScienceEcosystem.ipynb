{
 "cells": [
  {
   "cell_type": "markdown",
   "id": "39ccf487-344c-40e9-a758-37f535b91f3b",
   "metadata": {},
   "source": [
    "<h1> Data Science Tools and Ecosystem"
   ]
  },
  {
   "cell_type": "markdown",
   "id": "a51aaf7c-e4e0-453b-b5e6-01d1141e9337",
   "metadata": {},
   "source": [
    "<H2> Author </H2>\n",
    "     Roshan Parajuli"
   ]
  },
  {
   "cell_type": "markdown",
   "id": "692b5bc2-92e2-40d2-b19e-3f44eec1d4ad",
   "metadata": {},
   "source": [
    "In this notebook, Data Science Tools and Ecosystem are summarized"
   ]
  },
  {
   "cell_type": "markdown",
   "id": "7fa882e0-ccc3-46f2-a725-c180341a4f5b",
   "metadata": {},
   "source": [
    "Some of the popular languages that Data Scientists use are:\n",
    "> 1. Python\n",
    "> 2. R\n",
    "> 3. SQL"
   ]
  },
  {
   "cell_type": "markdown",
   "id": "61ed3398-0a92-44e4-a476-1b9de57df8c4",
   "metadata": {},
   "source": [
    "<B> Objectives:\n",
    "- Data Science Libraries\n",
    "- Data Science Tools\n",
    "- Arithmetic Operations"
   ]
  },
  {
   "cell_type": "markdown",
   "id": "ff1f5057-7ddb-4827-a722-a4e2949709dc",
   "metadata": {},
   "source": [
    "Some of the commonly used libraries used by the Data Scientists includes:\n",
    "> 1. pandas\n",
    "> 2. numpy\n",
    "> 3. Matplotlib\n"
   ]
  },
  {
   "cell_type": "code",
   "execution_count": 3,
   "id": "09002b04-2b87-49ae-ae0a-9da0d56b3818",
   "metadata": {},
   "outputs": [
    {
     "data": {
      "text/html": [
       "<style>\n",
       "table {float:left}\n",
       "</style>\n"
      ],
      "text/plain": [
       "<IPython.core.display.HTML object>"
      ]
     },
     "metadata": {},
     "output_type": "display_data"
    }
   ],
   "source": [
    "%%html\n",
    "<style>\n",
    "table {float:left}\n",
    "</style>"
   ]
  },
  {
   "cell_type": "markdown",
   "id": "1d3fcde1-e103-4c8a-8cb7-cdb336b31f30",
   "metadata": {},
   "source": [
    "|Data Science Tools|\n",
    "|:------------- |\n",
    "|Pycharm |\n",
    "|Jupyter Notebook|\n",
    "|IBM Watson Studio|"
   ]
  },
  {
   "cell_type": "markdown",
   "id": "97c14cca-a8d4-4e94-920d-a7f2b0cae68c",
   "metadata": {},
   "source": [
    "<h3> Below are a few examples of evaluating arithmetic expressions in Python"
   ]
  },
  {
   "cell_type": "code",
   "execution_count": 7,
   "id": "ec7c1758-1504-45b7-9cd2-8800b890070f",
   "metadata": {},
   "outputs": [
    {
     "data": {
      "text/plain": [
       "17"
      ]
     },
     "execution_count": 7,
     "metadata": {},
     "output_type": "execute_result"
    }
   ],
   "source": [
    "(3*4)+5"
   ]
  },
  {
   "cell_type": "code",
   "execution_count": 15,
   "id": "c955e707-2140-41b1-aed2-d68d0acc3c81",
   "metadata": {},
   "outputs": [
    {
     "name": "stdout",
     "output_type": "stream",
     "text": [
      "200 minutes is equal to  3.33 hours\n"
     ]
    }
   ],
   "source": [
    "# Convert 200 minutes into hours\n",
    "print(\"200 minutes is equal to \", \"{:2.2f}\".format(200/60), \"hours\")"
   ]
  },
  {
   "cell_type": "code",
   "execution_count": null,
   "id": "a45f7e91-9d2c-4982-ba29-458cbdf7774e",
   "metadata": {},
   "outputs": [],
   "source": []
  }
 ],
 "metadata": {
  "kernelspec": {
   "display_name": "Python 3 (ipykernel)",
   "language": "python",
   "name": "python3"
  },
  "language_info": {
   "codemirror_mode": {
    "name": "ipython",
    "version": 3
   },
   "file_extension": ".py",
   "mimetype": "text/x-python",
   "name": "python",
   "nbconvert_exporter": "python",
   "pygments_lexer": "ipython3",
   "version": "3.11.5"
  }
 },
 "nbformat": 4,
 "nbformat_minor": 5
}
